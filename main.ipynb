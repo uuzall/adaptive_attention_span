{
 "cells": [
  {
   "cell_type": "code",
   "execution_count": 1,
   "metadata": {},
   "outputs": [],
   "source": [
    "%load_ext autoreload \n",
    "%autoreload 2"
   ]
  },
  {
   "cell_type": "code",
   "execution_count": 1,
   "metadata": {},
   "outputs": [
    {
     "name": "stdout",
     "output_type": "stream",
     "text": [
      "NVIDIA GeForce RTX 3090\n"
     ]
    }
   ],
   "source": [
    "import torch\n",
    "import torch.nn as nn \n",
    "import torch.optim as optim \n",
    "import transformers.optimization as trans_optim\n",
    "import torch.nn.functional as F \n",
    "from torch.utils.data import DataLoader \n",
    "import numpy as np \n",
    "import matplotlib.pyplot as plt \n",
    "import data\n",
    "import gpt \n",
    "from tqdm import tqdm, trange\n",
    "import json \n",
    "\n",
    "device = 'cuda' if torch.cuda.is_available() else 'cpu' \n",
    "if device == 'cuda': \n",
    "  print(torch.cuda.get_device_name()) \n",
    "else: \n",
    "  print(device) \n",
    "\n",
    "with open('config.json', 'r') as file: \n",
    "  config = json.load(file)\n",
    "\n",
    "lr = config['lr']\n",
    "bs = config['batch_size']\n",
    "\n",
    "vocab_size, encode = data._init_data() # total: 4,236,416 characters"
   ]
  },
  {
   "cell_type": "code",
   "execution_count": 2,
   "metadata": {},
   "outputs": [
    {
     "name": "stdout",
     "output_type": "stream",
     "text": [
      "58.395801 M parameters.\n"
     ]
    }
   ],
   "source": [
    "model = gpt.gpt_model(vocab_size=vocab_size).to(device) \n",
    "print(sum(p.numel() for p in model.parameters())/1e6, 'M parameters.')"
   ]
  },
  {
   "cell_type": "code",
   "execution_count": 3,
   "metadata": {},
   "outputs": [],
   "source": [
    "def clamp_adaptive_span(): \n",
    "  for i in model.blocks: \n",
    "    for j in i.sa.heads: \n",
    "      j.adaptive_span.clamp_param()"
   ]
  },
  {
   "cell_type": "code",
   "execution_count": 4,
   "metadata": {},
   "outputs": [
    {
     "name": "stdout",
     "output_type": "stream",
     "text": [
      "Steps: 16\n",
      "torch.Size([4, 2048])\n"
     ]
    },
    {
     "name": "stderr",
     "output_type": "stream",
     "text": [
      "Iterations: 50626/62500:  81%|████████  | 50626/62500 [9:18:10<2:10:54,  1.51it/s, best_iter=39168, best_val_loss=0.927, loss=0.668, val_loss=0.99]  \n"
     ]
    },
    {
     "ename": "KeyboardInterrupt",
     "evalue": "",
     "output_type": "error",
     "traceback": [
      "\u001b[1;31m---------------------------------------------------------------------------\u001b[0m",
      "\u001b[1;31mKeyboardInterrupt\u001b[0m                         Traceback (most recent call last)",
      "Cell \u001b[1;32mIn[4], line 15\u001b[0m\n\u001b[0;32m     13\u001b[0m \u001b[39mfor\u001b[39;00m \u001b[39miter\u001b[39m \u001b[39min\u001b[39;00m (loop \u001b[39m:=\u001b[39m trange(max_iters)): \n\u001b[0;32m     14\u001b[0m \tx, y \u001b[39m=\u001b[39m data\u001b[39m.\u001b[39mdataloader(\u001b[39m'\u001b[39m\u001b[39mtrain\u001b[39m\u001b[39m'\u001b[39m)\n\u001b[1;32m---> 15\u001b[0m \tlogits \u001b[39m=\u001b[39m model(x\u001b[39m.\u001b[39;49mto(device))\n\u001b[0;32m     17\u001b[0m \tB, T, C \u001b[39m=\u001b[39m logits\u001b[39m.\u001b[39mshape \n\u001b[0;32m     18\u001b[0m \tlogits \u001b[39m=\u001b[39m logits\u001b[39m.\u001b[39mview(B\u001b[39m*\u001b[39mT, C)\n",
      "File \u001b[1;32mx:\\python_environments\\AI_310\\lib\\site-packages\\torch\\nn\\modules\\module.py:1194\u001b[0m, in \u001b[0;36mModule._call_impl\u001b[1;34m(self, *input, **kwargs)\u001b[0m\n\u001b[0;32m   1190\u001b[0m \u001b[39m# If we don't have any hooks, we want to skip the rest of the logic in\u001b[39;00m\n\u001b[0;32m   1191\u001b[0m \u001b[39m# this function, and just call forward.\u001b[39;00m\n\u001b[0;32m   1192\u001b[0m \u001b[39mif\u001b[39;00m \u001b[39mnot\u001b[39;00m (\u001b[39mself\u001b[39m\u001b[39m.\u001b[39m_backward_hooks \u001b[39mor\u001b[39;00m \u001b[39mself\u001b[39m\u001b[39m.\u001b[39m_forward_hooks \u001b[39mor\u001b[39;00m \u001b[39mself\u001b[39m\u001b[39m.\u001b[39m_forward_pre_hooks \u001b[39mor\u001b[39;00m _global_backward_hooks\n\u001b[0;32m   1193\u001b[0m         \u001b[39mor\u001b[39;00m _global_forward_hooks \u001b[39mor\u001b[39;00m _global_forward_pre_hooks):\n\u001b[1;32m-> 1194\u001b[0m     \u001b[39mreturn\u001b[39;00m forward_call(\u001b[39m*\u001b[39m\u001b[39minput\u001b[39m, \u001b[39m*\u001b[39m\u001b[39m*\u001b[39mkwargs)\n\u001b[0;32m   1195\u001b[0m \u001b[39m# Do not call functions when jit is used\u001b[39;00m\n\u001b[0;32m   1196\u001b[0m full_backward_hooks, non_full_backward_hooks \u001b[39m=\u001b[39m [], []\n",
      "File \u001b[1;32mc:\\Users\\Asus\\OneDrive\\Programming\\adaptive_attention_span_in_transformers\\gpt.py:130\u001b[0m, in \u001b[0;36mgpt_model.forward\u001b[1;34m(self, idx)\u001b[0m\n\u001b[0;32m    128\u001b[0m pos_emb \u001b[39m=\u001b[39m \u001b[39mself\u001b[39m\u001b[39m.\u001b[39mposition_embedding(torch\u001b[39m.\u001b[39marange(T, device\u001b[39m=\u001b[39mdevice)) \n\u001b[0;32m    129\u001b[0m x \u001b[39m=\u001b[39m tok_emb \u001b[39m+\u001b[39m pos_emb \n\u001b[1;32m--> 130\u001b[0m x \u001b[39m=\u001b[39m \u001b[39mself\u001b[39;49m\u001b[39m.\u001b[39;49mblocks(x) \n\u001b[0;32m    131\u001b[0m x \u001b[39m=\u001b[39m \u001b[39mself\u001b[39m\u001b[39m.\u001b[39mln_f(x) \n\u001b[0;32m    132\u001b[0m logits \u001b[39m=\u001b[39m \u001b[39mself\u001b[39m\u001b[39m.\u001b[39mlm_head(x) \n",
      "File \u001b[1;32mx:\\python_environments\\AI_310\\lib\\site-packages\\torch\\nn\\modules\\module.py:1194\u001b[0m, in \u001b[0;36mModule._call_impl\u001b[1;34m(self, *input, **kwargs)\u001b[0m\n\u001b[0;32m   1190\u001b[0m \u001b[39m# If we don't have any hooks, we want to skip the rest of the logic in\u001b[39;00m\n\u001b[0;32m   1191\u001b[0m \u001b[39m# this function, and just call forward.\u001b[39;00m\n\u001b[0;32m   1192\u001b[0m \u001b[39mif\u001b[39;00m \u001b[39mnot\u001b[39;00m (\u001b[39mself\u001b[39m\u001b[39m.\u001b[39m_backward_hooks \u001b[39mor\u001b[39;00m \u001b[39mself\u001b[39m\u001b[39m.\u001b[39m_forward_hooks \u001b[39mor\u001b[39;00m \u001b[39mself\u001b[39m\u001b[39m.\u001b[39m_forward_pre_hooks \u001b[39mor\u001b[39;00m _global_backward_hooks\n\u001b[0;32m   1193\u001b[0m         \u001b[39mor\u001b[39;00m _global_forward_hooks \u001b[39mor\u001b[39;00m _global_forward_pre_hooks):\n\u001b[1;32m-> 1194\u001b[0m     \u001b[39mreturn\u001b[39;00m forward_call(\u001b[39m*\u001b[39m\u001b[39minput\u001b[39m, \u001b[39m*\u001b[39m\u001b[39m*\u001b[39mkwargs)\n\u001b[0;32m   1195\u001b[0m \u001b[39m# Do not call functions when jit is used\u001b[39;00m\n\u001b[0;32m   1196\u001b[0m full_backward_hooks, non_full_backward_hooks \u001b[39m=\u001b[39m [], []\n",
      "File \u001b[1;32mx:\\python_environments\\AI_310\\lib\\site-packages\\torch\\nn\\modules\\container.py:204\u001b[0m, in \u001b[0;36mSequential.forward\u001b[1;34m(self, input)\u001b[0m\n\u001b[0;32m    202\u001b[0m \u001b[39mdef\u001b[39;00m \u001b[39mforward\u001b[39m(\u001b[39mself\u001b[39m, \u001b[39minput\u001b[39m):\n\u001b[0;32m    203\u001b[0m     \u001b[39mfor\u001b[39;00m module \u001b[39min\u001b[39;00m \u001b[39mself\u001b[39m:\n\u001b[1;32m--> 204\u001b[0m         \u001b[39minput\u001b[39m \u001b[39m=\u001b[39m module(\u001b[39minput\u001b[39;49m)\n\u001b[0;32m    205\u001b[0m     \u001b[39mreturn\u001b[39;00m \u001b[39minput\u001b[39m\n",
      "File \u001b[1;32mx:\\python_environments\\AI_310\\lib\\site-packages\\torch\\nn\\modules\\module.py:1194\u001b[0m, in \u001b[0;36mModule._call_impl\u001b[1;34m(self, *input, **kwargs)\u001b[0m\n\u001b[0;32m   1190\u001b[0m \u001b[39m# If we don't have any hooks, we want to skip the rest of the logic in\u001b[39;00m\n\u001b[0;32m   1191\u001b[0m \u001b[39m# this function, and just call forward.\u001b[39;00m\n\u001b[0;32m   1192\u001b[0m \u001b[39mif\u001b[39;00m \u001b[39mnot\u001b[39;00m (\u001b[39mself\u001b[39m\u001b[39m.\u001b[39m_backward_hooks \u001b[39mor\u001b[39;00m \u001b[39mself\u001b[39m\u001b[39m.\u001b[39m_forward_hooks \u001b[39mor\u001b[39;00m \u001b[39mself\u001b[39m\u001b[39m.\u001b[39m_forward_pre_hooks \u001b[39mor\u001b[39;00m _global_backward_hooks\n\u001b[0;32m   1193\u001b[0m         \u001b[39mor\u001b[39;00m _global_forward_hooks \u001b[39mor\u001b[39;00m _global_forward_pre_hooks):\n\u001b[1;32m-> 1194\u001b[0m     \u001b[39mreturn\u001b[39;00m forward_call(\u001b[39m*\u001b[39m\u001b[39minput\u001b[39m, \u001b[39m*\u001b[39m\u001b[39m*\u001b[39mkwargs)\n\u001b[0;32m   1195\u001b[0m \u001b[39m# Do not call functions when jit is used\u001b[39;00m\n\u001b[0;32m   1196\u001b[0m full_backward_hooks, non_full_backward_hooks \u001b[39m=\u001b[39m [], []\n",
      "File \u001b[1;32mc:\\Users\\Asus\\OneDrive\\Programming\\adaptive_attention_span_in_transformers\\gpt.py:100\u001b[0m, in \u001b[0;36mblock.forward\u001b[1;34m(self, x)\u001b[0m\n\u001b[0;32m     99\u001b[0m \u001b[39mdef\u001b[39;00m \u001b[39mforward\u001b[39m(\u001b[39mself\u001b[39m, x): \n\u001b[1;32m--> 100\u001b[0m \tx \u001b[39m=\u001b[39m x \u001b[39m+\u001b[39m \u001b[39mself\u001b[39;49m\u001b[39m.\u001b[39;49msa(\u001b[39mself\u001b[39;49m\u001b[39m.\u001b[39;49mln1(x)) \n\u001b[0;32m    101\u001b[0m \tx \u001b[39m=\u001b[39m x \u001b[39m+\u001b[39m \u001b[39mself\u001b[39m\u001b[39m.\u001b[39mff(\u001b[39mself\u001b[39m\u001b[39m.\u001b[39mln2(x))\n\u001b[0;32m    102\u001b[0m \t\u001b[39mreturn\u001b[39;00m x\n",
      "File \u001b[1;32mx:\\python_environments\\AI_310\\lib\\site-packages\\torch\\nn\\modules\\module.py:1194\u001b[0m, in \u001b[0;36mModule._call_impl\u001b[1;34m(self, *input, **kwargs)\u001b[0m\n\u001b[0;32m   1190\u001b[0m \u001b[39m# If we don't have any hooks, we want to skip the rest of the logic in\u001b[39;00m\n\u001b[0;32m   1191\u001b[0m \u001b[39m# this function, and just call forward.\u001b[39;00m\n\u001b[0;32m   1192\u001b[0m \u001b[39mif\u001b[39;00m \u001b[39mnot\u001b[39;00m (\u001b[39mself\u001b[39m\u001b[39m.\u001b[39m_backward_hooks \u001b[39mor\u001b[39;00m \u001b[39mself\u001b[39m\u001b[39m.\u001b[39m_forward_hooks \u001b[39mor\u001b[39;00m \u001b[39mself\u001b[39m\u001b[39m.\u001b[39m_forward_pre_hooks \u001b[39mor\u001b[39;00m _global_backward_hooks\n\u001b[0;32m   1193\u001b[0m         \u001b[39mor\u001b[39;00m _global_forward_hooks \u001b[39mor\u001b[39;00m _global_forward_pre_hooks):\n\u001b[1;32m-> 1194\u001b[0m     \u001b[39mreturn\u001b[39;00m forward_call(\u001b[39m*\u001b[39m\u001b[39minput\u001b[39m, \u001b[39m*\u001b[39m\u001b[39m*\u001b[39mkwargs)\n\u001b[0;32m   1195\u001b[0m \u001b[39m# Do not call functions when jit is used\u001b[39;00m\n\u001b[0;32m   1196\u001b[0m full_backward_hooks, non_full_backward_hooks \u001b[39m=\u001b[39m [], []\n",
      "File \u001b[1;32mc:\\Users\\Asus\\OneDrive\\Programming\\adaptive_attention_span_in_transformers\\gpt.py:74\u001b[0m, in \u001b[0;36mmulti_head_attention.forward\u001b[1;34m(self, x)\u001b[0m\n\u001b[0;32m     73\u001b[0m \u001b[39mdef\u001b[39;00m \u001b[39mforward\u001b[39m(\u001b[39mself\u001b[39m, x): \n\u001b[1;32m---> 74\u001b[0m \tout \u001b[39m=\u001b[39m torch\u001b[39m.\u001b[39mcat([h(x) \u001b[39mfor\u001b[39;00m h \u001b[39min\u001b[39;00m \u001b[39mself\u001b[39m\u001b[39m.\u001b[39mheads], dim\u001b[39m=\u001b[39m\u001b[39m-\u001b[39m\u001b[39m1\u001b[39m)\n\u001b[0;32m     75\u001b[0m \tout \u001b[39m=\u001b[39m \u001b[39mself\u001b[39m\u001b[39m.\u001b[39mdropout(\u001b[39mself\u001b[39m\u001b[39m.\u001b[39mproj(out)) \n\u001b[0;32m     76\u001b[0m \t\u001b[39mreturn\u001b[39;00m out\n",
      "File \u001b[1;32mc:\\Users\\Asus\\OneDrive\\Programming\\adaptive_attention_span_in_transformers\\gpt.py:74\u001b[0m, in \u001b[0;36m<listcomp>\u001b[1;34m(.0)\u001b[0m\n\u001b[0;32m     73\u001b[0m \u001b[39mdef\u001b[39;00m \u001b[39mforward\u001b[39m(\u001b[39mself\u001b[39m, x): \n\u001b[1;32m---> 74\u001b[0m \tout \u001b[39m=\u001b[39m torch\u001b[39m.\u001b[39mcat([h(x) \u001b[39mfor\u001b[39;00m h \u001b[39min\u001b[39;00m \u001b[39mself\u001b[39m\u001b[39m.\u001b[39mheads], dim\u001b[39m=\u001b[39m\u001b[39m-\u001b[39m\u001b[39m1\u001b[39m)\n\u001b[0;32m     75\u001b[0m \tout \u001b[39m=\u001b[39m \u001b[39mself\u001b[39m\u001b[39m.\u001b[39mdropout(\u001b[39mself\u001b[39m\u001b[39m.\u001b[39mproj(out)) \n\u001b[0;32m     76\u001b[0m \t\u001b[39mreturn\u001b[39;00m out\n",
      "File \u001b[1;32mx:\\python_environments\\AI_310\\lib\\site-packages\\torch\\nn\\modules\\module.py:1194\u001b[0m, in \u001b[0;36mModule._call_impl\u001b[1;34m(self, *input, **kwargs)\u001b[0m\n\u001b[0;32m   1190\u001b[0m \u001b[39m# If we don't have any hooks, we want to skip the rest of the logic in\u001b[39;00m\n\u001b[0;32m   1191\u001b[0m \u001b[39m# this function, and just call forward.\u001b[39;00m\n\u001b[0;32m   1192\u001b[0m \u001b[39mif\u001b[39;00m \u001b[39mnot\u001b[39;00m (\u001b[39mself\u001b[39m\u001b[39m.\u001b[39m_backward_hooks \u001b[39mor\u001b[39;00m \u001b[39mself\u001b[39m\u001b[39m.\u001b[39m_forward_hooks \u001b[39mor\u001b[39;00m \u001b[39mself\u001b[39m\u001b[39m.\u001b[39m_forward_pre_hooks \u001b[39mor\u001b[39;00m _global_backward_hooks\n\u001b[0;32m   1193\u001b[0m         \u001b[39mor\u001b[39;00m _global_forward_hooks \u001b[39mor\u001b[39;00m _global_forward_pre_hooks):\n\u001b[1;32m-> 1194\u001b[0m     \u001b[39mreturn\u001b[39;00m forward_call(\u001b[39m*\u001b[39m\u001b[39minput\u001b[39m, \u001b[39m*\u001b[39m\u001b[39m*\u001b[39mkwargs)\n\u001b[0;32m   1195\u001b[0m \u001b[39m# Do not call functions when jit is used\u001b[39;00m\n\u001b[0;32m   1196\u001b[0m full_backward_hooks, non_full_backward_hooks \u001b[39m=\u001b[39m [], []\n",
      "File \u001b[1;32mc:\\Users\\Asus\\OneDrive\\Programming\\adaptive_attention_span_in_transformers\\gpt.py:60\u001b[0m, in \u001b[0;36mattention_head.forward\u001b[1;34m(self, x)\u001b[0m\n\u001b[0;32m     58\u001b[0m weight \u001b[39m=\u001b[39m F\u001b[39m.\u001b[39msoftmax(weight, dim\u001b[39m=\u001b[39m\u001b[39m-\u001b[39m\u001b[39m1\u001b[39m)\n\u001b[0;32m     59\u001b[0m \u001b[39mif\u001b[39;00m \u001b[39mself\u001b[39m\u001b[39m.\u001b[39menable_adaptive_span: \n\u001b[1;32m---> 60\u001b[0m \tweight \u001b[39m=\u001b[39m \u001b[39mself\u001b[39;49m\u001b[39m.\u001b[39;49madaptive_span(weight) \n\u001b[0;32m     61\u001b[0m weight \u001b[39m=\u001b[39m \u001b[39mself\u001b[39m\u001b[39m.\u001b[39mdropout(weight) \n\u001b[0;32m     62\u001b[0m v \u001b[39m=\u001b[39m \u001b[39mself\u001b[39m\u001b[39m.\u001b[39mvalue(x) \n",
      "File \u001b[1;32mx:\\python_environments\\AI_310\\lib\\site-packages\\torch\\nn\\modules\\module.py:1194\u001b[0m, in \u001b[0;36mModule._call_impl\u001b[1;34m(self, *input, **kwargs)\u001b[0m\n\u001b[0;32m   1190\u001b[0m \u001b[39m# If we don't have any hooks, we want to skip the rest of the logic in\u001b[39;00m\n\u001b[0;32m   1191\u001b[0m \u001b[39m# this function, and just call forward.\u001b[39;00m\n\u001b[0;32m   1192\u001b[0m \u001b[39mif\u001b[39;00m \u001b[39mnot\u001b[39;00m (\u001b[39mself\u001b[39m\u001b[39m.\u001b[39m_backward_hooks \u001b[39mor\u001b[39;00m \u001b[39mself\u001b[39m\u001b[39m.\u001b[39m_forward_hooks \u001b[39mor\u001b[39;00m \u001b[39mself\u001b[39m\u001b[39m.\u001b[39m_forward_pre_hooks \u001b[39mor\u001b[39;00m _global_backward_hooks\n\u001b[0;32m   1193\u001b[0m         \u001b[39mor\u001b[39;00m _global_forward_hooks \u001b[39mor\u001b[39;00m _global_forward_pre_hooks):\n\u001b[1;32m-> 1194\u001b[0m     \u001b[39mreturn\u001b[39;00m forward_call(\u001b[39m*\u001b[39m\u001b[39minput\u001b[39m, \u001b[39m*\u001b[39m\u001b[39m*\u001b[39mkwargs)\n\u001b[0;32m   1195\u001b[0m \u001b[39m# Do not call functions when jit is used\u001b[39;00m\n\u001b[0;32m   1196\u001b[0m full_backward_hooks, non_full_backward_hooks \u001b[39m=\u001b[39m [], []\n",
      "\u001b[1;31mKeyboardInterrupt\u001b[0m: "
     ]
    }
   ],
   "source": [
    "optimizer = optim.AdamW(model.parameters(), lr=lr)\n",
    "# optimizer = trans_optim.Adafactor(model.parameters(), lr=lr, relative_step=False)\n",
    "# scheduler = optim.lr_scheduler.LinearLR(optimizer=optimizer, start_factor=1e-9, total_iters=16000)\n",
    "\n",
    "losses, val_losses, val_loss, best_val_loss, best_val_iter = list(), list(), 0, 100, 0\n",
    "scaler = torch.cuda.amp.GradScaler() \n",
    "\n",
    "steps = 64 // bs \n",
    "print(f'Steps: {steps}')\n",
    "\n",
    "max_iters = 62500 #62.5k iterations for train, and 3k for test is the ideal number. \n",
    "print(data.dataloader('train')[0].shape)\n",
    "for iter in (loop := trange(max_iters)): \n",
    "\tx, y = data.dataloader('train')\n",
    "\tlogits = model(x.to(device))\n",
    "\n",
    "\tB, T, C = logits.shape \n",
    "\tlogits = logits.view(B*T, C)\n",
    "\ttargets = y.view(B*T)\n",
    "\tloss = F.cross_entropy(logits, targets.to(device)) / steps\n",
    "\tlosses.append(loss.item()*steps)\n",
    "\tloss.backward()\n",
    "\tif iter % steps == 0: \n",
    "\t\t# nn.utils.clip_grad_value_(model.parameters(), 0.03)\n",
    "\t\toptimizer.step() \n",
    "\t\tclamp_adaptive_span()\n",
    "\t\tmodel.zero_grad()\n",
    "\t\t# scheduler.step()\n",
    "\n",
    "\tif iter % 128 == 0: \n",
    "\t\tloss_dim = 40\n",
    "\t\tval_loss_tensor = torch.zeros((loss_dim))\n",
    "\t\tfor j in range(loss_dim): \n",
    "\t\t\tx, y = data.dataloader('val')\n",
    "\t\t\twith torch.no_grad(): \n",
    "\t\t\t\tlogits = model(x.to(device))\n",
    "\n",
    "\t\t\t\tB, T, C = logits.shape \n",
    "\t\t\t\tlogits = logits.view(B*T, C)\n",
    "\t\t\t\ttargets = y.view(B*T)\n",
    "\t\t\t\tval_loss = F.cross_entropy(logits, targets.to(device)) \n",
    "\t\t\tval_loss_tensor[j] = val_loss.item()\n",
    "\t\tval_losses.append(val_loss_tensor.mean().item())\n",
    "\t\tif val_losses[-1] < best_val_loss: \n",
    "\t\t\tbest_val_loss = val_losses[-1]\n",
    "\t\t\tbest_val_iter = iter\n",
    "\t\t\ttorch.save(model.state_dict(), f'models/adaptive_span_final_2048_8_heads_8_layers.pth')\n",
    "\n",
    "\tloop.set_description(f'Iterations: {iter+1}/{max_iters}')\n",
    "\tloop.set_postfix(loss=loss.item()*steps, val_loss=val_losses[-1], best_val_loss=best_val_loss, best_iter=best_val_iter)#, z_lr=scheduler.get_last_lr()[0])\n",
    "\n",
    "plt.plot(losses)\n",
    "plt.show()\n",
    "plt.plot(val_losses) # "
   ]
  },
  {
   "cell_type": "code",
   "execution_count": null,
   "metadata": {},
   "outputs": [
    {
     "name": "stdout",
     "output_type": "stream",
     "text": [
      "57.216089 M parameters.\n"
     ]
    }
   ],
   "source": [
    "model = gpt.gpt_model(vocab_size=vocab_size, enable_adaptive_span=False).to(device) \n",
    "print(sum(p.numel() for p in model.parameters())/1e6, 'M parameters.')"
   ]
  },
  {
   "cell_type": "code",
   "execution_count": null,
   "metadata": {},
   "outputs": [
    {
     "name": "stdout",
     "output_type": "stream",
     "text": [
      "Steps: 2\n"
     ]
    },
    {
     "name": "stderr",
     "output_type": "stream",
     "text": [
      "Iterations: 6200/6200: 100%|██████████| 6200/6200 [1:13:43<00:00,  1.40it/s, best_iter=5760, best_val_loss=0.95, loss=0.841, val_loss=0.953]   "
     ]
    },
    {
     "name": "stdout",
     "output_type": "stream",
     "text": [
      "torch.Size([32, 512])\n"
     ]
    },
    {
     "name": "stderr",
     "output_type": "stream",
     "text": [
      "\n"
     ]
    },
    {
     "data": {
      "image/png": "[encoded data removed]",
      "text/plain": [
       "<Figure size 640x480 with 1 Axes>"
      ]
     },
     "metadata": {},
     "output_type": "display_data"
    },
    {
     "data": {
      "text/plain": [
       "[<matplotlib.lines.Line2D at 0x1f5400afa30>]"
      ]
     },
     "execution_count": 6,
     "metadata": {},
     "output_type": "execute_result"
    },
    {
     "data": {
      "image/png": "[encoded data removed]",
      "text/plain": [
       "<Figure size 640x480 with 1 Axes>"
      ]
     },
     "metadata": {},
     "output_type": "display_data"
    }
   ],
   "source": [
    "optimizer = optim.AdamW(model.parameters(), lr=lr)\n",
    "\n",
    "losses, val_losses, val_loss, best_val_loss, best_val_iter = list(), list(), 0, 100, 0\n",
    "scaler = torch.cuda.amp.GradScaler() \n",
    "\n",
    "steps = 64 // bs \n",
    "print(f'Steps: {steps}')\n",
    "\n",
    "max_iters = 6200\n",
    "for iter in (loop := trange(max_iters)): \n",
    "\tx, y = data.dataloader('train')\n",
    "\t\n",
    "\tlogits = model(x.to(device))\n",
    "\n",
    "\tB, T, C = logits.shape \n",
    "\tlogits = logits.view(B*T, C)\n",
    "\ttargets = y.view(B*T)\n",
    "\tloss = F.cross_entropy(logits, targets.to(device)) / steps\n",
    "\tlosses.append(loss.item()*steps)\n",
    "\tloss.backward()\n",
    "\tif iter % steps == 0: \n",
    "\t\toptimizer.step() \n",
    "\t\tmodel.zero_grad()\n",
    "\n",
    "\tif iter % 128 == 0: \n",
    "\t\tloss_dim = 40*steps\n",
    "\t\tval_loss_tensor = torch.zeros((loss_dim))\n",
    "\t\tfor j in range(loss_dim): \n",
    "\t\t\tx, y = data.dataloader('val')\n",
    "\t\t\twith torch.no_grad(): \n",
    "\t\t\t\tlogits = model(x.to(device))\n",
    "\n",
    "\t\t\t\tB, T, C = logits.shape \n",
    "\t\t\t\tlogits = logits.view(B*T, C)\n",
    "\t\t\t\ttargets = y.view(B*T)\n",
    "\t\t\t\tval_loss = F.cross_entropy(logits, targets.to(device)) \n",
    "\t\t\tval_loss_tensor[j] = val_loss.item()\n",
    "\t\tval_losses.append(val_loss_tensor.mean().item())\n",
    "\t\tif val_losses[-1] < best_val_loss: \n",
    "\t\t\tbest_val_loss = val_losses[-1]\n",
    "\t\t\tbest_val_iter = iter\n",
    "\n",
    "\tloop.set_description(f'Iterations: {iter+1}/{max_iters}')\n",
    "\tloop.set_postfix(loss=loss.item()*steps, val_loss=val_losses[-1], best_val_loss=best_val_loss, best_iter=best_val_iter)\n",
    "\n",
    "# torch.save(model.state_dict(), f'models/no_adaptive_span_final_23k.pth')\n",
    "\n",
    "print(x.shape)\n",
    "plt.plot(losses)\n",
    "plt.show()\n",
    "plt.plot(val_losses)"
   ]
  },
  {
   "cell_type": "code",
   "execution_count": null,
   "metadata": {},
   "outputs": [],
   "source": []
  }
 ],
 "metadata": {
  "kernelspec": {
   "display_name": "AI_310",
   "language": "python",
   "name": "python3"
  },
  "language_info": {
   "codemirror_mode": {
    "name": "ipython",
    "version": 3
   },
   "file_extension": ".py",
   "mimetype": "text/x-python",
   "name": "python",
   "nbconvert_exporter": "python",
   "pygments_lexer": "ipython3",
   "version": "3.10.10"
  },
  "orig_nbformat": 4
 },
 "nbformat": 4,
 "nbformat_minor": 2
}
