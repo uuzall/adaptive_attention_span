{
 "cells": [
  {
   "cell_type": "code",
   "execution_count": 1,
   "metadata": {},
   "outputs": [],
   "source": [
    "%load_ext autoreload \n",
    "%autoreload 2"
   ]
  },
  {
   "cell_type": "code",
   "execution_count": 1,
   "metadata": {},
   "outputs": [],
   "source": [
    "import torch \n",
    "import torch.nn as nn \n",
    "import torch.nn.functional as F \n",
    "import matplotlib.pyplot as plt \n",
    "import math "
   ]
  },
  {
   "cell_type": "code",
   "execution_count": 5,
   "metadata": {},
   "outputs": [
    {
     "name": "stdout",
     "output_type": "stream",
     "text": [
      "torch.Size([16, 256, 256])\n",
      "torch.Size([16, 256, 256])\n",
      "torch.Size([16, 256, 256])\n",
      "torch.Size([16, 256, 256])\n",
      "torch.Size([16, 256, 256])\n",
      "torch.Size([16, 256, 256])\n",
      "torch.Size([16, 256, 256])\n",
      "torch.Size([16, 256, 256])\n",
      "torch.Size([16, 256, 256])\n",
      "torch.Size([16, 256, 256])\n",
      "torch.Size([16, 256, 256])\n",
      "torch.Size([16, 256, 256])\n",
      "torch.Size([16, 256, 256])\n",
      "torch.Size([16, 256, 256])\n",
      "torch.Size([16, 256, 256])\n",
      "torch.Size([16, 256, 256])\n",
      "torch.Size([16, 256, 256])\n",
      "torch.Size([16, 256, 256])\n",
      "torch.Size([16, 256, 256])\n",
      "torch.Size([16, 256, 256])\n",
      "torch.Size([16, 256, 256])\n",
      "torch.Size([16, 256, 256])\n",
      "torch.Size([16, 256, 256])\n",
      "torch.Size([16, 256, 256])\n",
      "torch.Size([16, 256, 256])\n",
      "torch.Size([16, 256, 256])\n",
      "torch.Size([16, 256, 256])\n",
      "torch.Size([16, 256, 256])\n",
      "torch.Size([16, 256, 256])\n",
      "torch.Size([16, 256, 256])\n",
      "torch.Size([16, 256, 256])\n",
      "torch.Size([16, 256, 256])\n",
      "torch.Size([16, 256, 256])\n",
      "torch.Size([16, 256, 256])\n",
      "torch.Size([16, 256, 256])\n",
      "torch.Size([16, 256, 256])\n",
      "torch.Size([16, 256, 256])\n",
      "torch.Size([16, 256, 256])\n",
      "torch.Size([16, 256, 256])\n",
      "torch.Size([16, 256, 256])\n",
      "torch.Size([16, 256, 256])\n",
      "torch.Size([16, 256, 256])\n",
      "torch.Size([16, 256, 256])\n",
      "torch.Size([16, 256, 256])\n",
      "torch.Size([16, 256, 256])\n",
      "torch.Size([16, 256, 256])\n",
      "torch.Size([16, 256, 256])\n",
      "torch.Size([16, 256, 256])\n",
      "torch.Size([16, 256, 256])\n",
      "torch.Size([16, 256, 256])\n",
      "torch.Size([16, 256, 256])\n",
      "torch.Size([16, 256, 256])\n",
      "torch.Size([16, 256, 256])\n",
      "torch.Size([16, 256, 256])\n",
      "torch.Size([16, 256, 256])\n",
      "torch.Size([16, 256, 256])\n",
      "torch.Size([16, 256, 256])\n",
      "torch.Size([16, 256, 256])\n",
      "torch.Size([16, 256, 256])\n",
      "torch.Size([16, 256, 256])\n",
      "torch.Size([16, 256, 256])\n",
      "torch.Size([16, 256, 256])\n",
      "torch.Size([16, 256, 256])\n",
      "torch.Size([16, 256, 256])\n",
      "torch.Size([16, 256, 256])\n",
      "torch.Size([16, 256, 256])\n",
      "torch.Size([16, 256, 256])\n",
      "torch.Size([16, 256, 256])\n",
      "torch.Size([16, 256, 256])\n",
      "torch.Size([16, 256, 256])\n",
      "torch.Size([16, 256, 256])\n",
      "torch.Size([16, 256, 256])\n",
      "torch.Size([16, 256, 256])\n",
      "torch.Size([16, 256, 256])\n",
      "torch.Size([16, 256, 256])\n",
      "torch.Size([16, 256, 256])\n",
      "torch.Size([16, 256, 256])\n",
      "torch.Size([16, 256, 256])\n",
      "torch.Size([16, 256, 256])\n",
      "torch.Size([16, 256, 256])\n",
      "torch.Size([16, 256, 256])\n",
      "torch.Size([16, 256, 256])\n",
      "torch.Size([16, 256, 256])\n",
      "torch.Size([16, 256, 256])\n",
      "torch.Size([16, 256, 256])\n",
      "torch.Size([16, 256, 256])\n",
      "torch.Size([16, 256, 256])\n",
      "torch.Size([16, 256, 256])\n",
      "torch.Size([16, 256, 256])\n",
      "torch.Size([16, 256, 256])\n",
      "torch.Size([16, 256, 256])\n",
      "torch.Size([16, 256, 256])\n",
      "torch.Size([16, 256, 256])\n",
      "torch.Size([16, 256, 256])\n",
      "torch.Size([16, 256, 256])\n",
      "torch.Size([16, 256, 256])\n",
      "torch.Size([16, 256, 256])\n",
      "torch.Size([16, 256, 256])\n",
      "torch.Size([16, 256, 256])\n",
      "torch.Size([16, 256, 256])\n",
      "torch.Size([16, 256, 256])\n",
      "torch.Size([16, 256, 256])\n",
      "torch.Size([16, 256, 256])\n",
      "torch.Size([16, 256, 256])\n",
      "torch.Size([16, 256, 256])\n",
      "torch.Size([16, 256, 256])\n",
      "torch.Size([16, 256, 256])\n",
      "torch.Size([16, 256, 256])\n",
      "torch.Size([16, 256, 256])\n",
      "torch.Size([16, 256, 256])\n",
      "torch.Size([16, 256, 256])\n",
      "torch.Size([16, 256, 256])\n",
      "torch.Size([16, 256, 256])\n",
      "torch.Size([16, 256, 256])\n",
      "torch.Size([16, 256, 256])\n",
      "torch.Size([16, 256, 256])\n",
      "torch.Size([16, 256, 256])\n",
      "torch.Size([16, 256, 256])\n",
      "torch.Size([16, 256, 256])\n",
      "torch.Size([16, 256, 256])\n",
      "torch.Size([16, 256, 256])\n",
      "torch.Size([16, 256, 256])\n",
      "torch.Size([16, 256, 256])\n",
      "torch.Size([16, 256, 256])\n",
      "torch.Size([16, 256, 256])\n",
      "torch.Size([16, 256, 256])\n",
      "torch.Size([16, 256, 256])\n",
      "torch.Size([16, 256, 256])\n",
      "torch.Size([16, 256, 256])\n",
      "torch.Size([16, 256, 256])\n",
      "torch.Size([16, 256, 256])\n",
      "torch.Size([16, 256, 256])\n",
      "torch.Size([16, 256, 256])\n",
      "torch.Size([16, 256, 256])\n",
      "torch.Size([16, 256, 256])\n",
      "torch.Size([16, 256, 256])\n",
      "torch.Size([16, 256, 256])\n",
      "torch.Size([16, 256, 256])\n",
      "torch.Size([16, 256, 256])\n",
      "torch.Size([16, 256, 256])\n",
      "torch.Size([16, 256, 256])\n",
      "torch.Size([16, 256, 256])\n",
      "torch.Size([16, 256, 256])\n",
      "torch.Size([16, 256, 256])\n"
     ]
    }
   ],
   "source": [
    "import gpt \n",
    "\n",
    "model = gpt.gpt_model(vocab_size=100000).cuda()\n",
    "out = model(torch.randint(0, 100000, (16, 256), device='cuda'))"
   ]
  },
  {
   "cell_type": "code",
   "execution_count": 83,
   "metadata": {},
   "outputs": [
    {
     "data": {
      "text/plain": [
       "Parameter containing:\n",
       "tensor([[[0.]]], device='cuda:0', requires_grad=True)"
      ]
     },
     "execution_count": 83,
     "metadata": {},
     "output_type": "execute_result"
    }
   ],
   "source": [
    "model.blocks[0].sa.heads[0].adaptive_span.current_val"
   ]
  },
  {
   "cell_type": "code",
   "execution_count": 84,
   "metadata": {},
   "outputs": [
    {
     "data": {
      "text/plain": [
       "Parameter containing:\n",
       "tensor([[[0.]]], device='cuda:0', requires_grad=True)"
      ]
     },
     "execution_count": 84,
     "metadata": {},
     "output_type": "execute_result"
    }
   ],
   "source": [
    "model.blocks[0].sa.heads[1].adaptive_span.current_val"
   ]
  },
  {
   "cell_type": "code",
   "execution_count": 38,
   "metadata": {},
   "outputs": [
    {
     "data": {
      "text/plain": [
       "tensor([0.0000, 0.0182, 0.0364, 0.0545, 0.0727, 0.0909, 0.1091, 0.1273, 0.1455,\n",
       "        0.1636, 0.1818])"
      ]
     },
     "execution_count": 38,
     "metadata": {},
     "output_type": "execute_result"
    }
   ],
   "source": [
    "x = torch.linspace(0, 10, 11)\n",
    "x / (x.sum() + 1e-8) "
   ]
  },
  {
   "cell_type": "code",
   "execution_count": 3,
   "metadata": {},
   "outputs": [],
   "source": [
    "class adaptive_mask(nn.Module): \n",
    "\tdef __init__(self, max_size, ramp_size, init_val=0, shape=(1,1,1)): \n",
    "\t\tsuper().__init__() \n",
    "\t\tself.max_size = max_size \n",
    "\t\tself.ramp_size = ramp_size \n",
    "\t\tself.current_val = nn.Parameter(torch.zeros(*shape) + init_val)\n",
    "\t\tmask_template = torch.linspace(1 - max_size, 0, steps=max_size)\n",
    "\t\tself.register_buffer('mask_template', mask_template)\n",
    "\n",
    "\tdef forward(self, x): \n",
    "\t\tmask = self.mask_template + self.current_val * self.max_size \n",
    "\t\tmask = mask / self.ramp_size + 1 \n",
    "\t\tmask = mask.clamp(0, 1) \n",
    "\t\tif x.size(-1) < self.max_size: \n",
    "\t\t\tmask = mask[:, :, -x.size(-1):]\n",
    "\t\tx = x * mask \n",
    "\t\tx = x / (x.sum(-1, keepdim=True) + 1e-8)\n",
    "\t\treturn x \n",
    "\t\n",
    "attn_weight = torch.softmax(torch.randn(size=(16, 64, 64)), dim=-1)\n",
    "x = adaptive_mask(max_size=64, ramp_size=64)(attn_weight)"
   ]
  },
  {
   "cell_type": "code",
   "execution_count": 34,
   "metadata": {},
   "outputs": [],
   "source": [
    "mask_template = torch.linspace(1 - 4096, 0, steps=4096) \n",
    "current_val = nn.Parameter(torch.zeros(1, 1, 1))\n",
    "max_size = 4096\n",
    "ramp_size = 4096"
   ]
  },
  {
   "cell_type": "code",
   "execution_count": 48,
   "metadata": {},
   "outputs": [
    {
     "data": {
      "text/plain": [
       "[<matplotlib.lines.Line2D at 0x169a2ce4190>]"
      ]
     },
     "execution_count": 48,
     "metadata": {},
     "output_type": "execute_result"
    },
    {
     "data": {
      "image/png": "[encoded data removed]",
      "text/plain": [
       "<Figure size 640x480 with 1 Axes>"
      ]
     },
     "metadata": {},
     "output_type": "display_data"
    }
   ],
   "source": [
    "rand = torch.randn((1, 1, 1))\n",
    "plt.title(rand)\n",
    "plt.plot((((mask_template + rand * max_size)/ramp_size + 1).clamp(0, 1))[0, 0].detach())"
   ]
  },
  {
   "cell_type": "code",
   "execution_count": 63,
   "metadata": {},
   "outputs": [
    {
     "data": {
      "text/plain": [
       "(tensor(6.7210e-06, grad_fn=<MinBackward1>),\n",
       " tensor(0.3023, grad_fn=<MaxBackward1>))"
      ]
     },
     "execution_count": 63,
     "metadata": {},
     "output_type": "execute_result"
    }
   ],
   "source": [
    "x.min(), x.max()"
   ]
  },
  {
   "cell_type": "code",
   "execution_count": 64,
   "metadata": {},
   "outputs": [
    {
     "data": {
      "text/plain": [
       "(tensor(1.2723e-05, grad_fn=<MinBackward1>),\n",
       " tensor(0.4925, grad_fn=<MaxBackward1>))"
      ]
     },
     "execution_count": 64,
     "metadata": {},
     "output_type": "execute_result"
    }
   ],
   "source": [
    "(x / x.sum(-1, keepdim=True)).min(), (x / x.sum(-1, keepdim=True)).max()"
   ]
  },
  {
   "cell_type": "code",
   "execution_count": 66,
   "metadata": {},
   "outputs": [
    {
     "data": {
      "text/plain": [
       "<matplotlib.image.AxesImage at 0x2485582cbb0>"
      ]
     },
     "execution_count": 66,
     "metadata": {},
     "output_type": "execute_result"
    },
    {
     "data": {
      "image/png": "[encoded data removed]",
      "text/plain": [
       "<Figure size 640x480 with 1 Axes>"
      ]
     },
     "metadata": {},
     "output_type": "display_data"
    }
   ],
   "source": [
    "plt.imshow(attn_weight[0])"
   ]
  },
  {
   "cell_type": "code",
   "execution_count": 59,
   "metadata": {},
   "outputs": [
    {
     "data": {
      "text/plain": [
       "<matplotlib.image.AxesImage at 0x248559a0bb0>"
      ]
     },
     "execution_count": 59,
     "metadata": {},
     "output_type": "execute_result"
    },
    {
     "data": {
      "image/png": "[encoded data removed]",
      "text/plain": [
       "<Figure size 640x480 with 1 Axes>"
      ]
     },
     "metadata": {},
     "output_type": "display_data"
    }
   ],
   "source": [
    "plt.imshow((x / (x.sum(-1, keepdim=True) + 1e-8))[0].detach())"
   ]
  },
  {
   "cell_type": "code",
   "execution_count": 4,
   "metadata": {},
   "outputs": [],
   "source": []
  },
  {
   "cell_type": "code",
   "execution_count": 5,
   "metadata": {},
   "outputs": [
    {
     "data": {
      "text/plain": [
       "tensor([[[-0.8429, -0.0876,  0.1345,  ...,  1.5483, -0.7404,  1.1195],\n",
       "         [-0.6880, -0.0222, -0.9401,  ..., -0.5602,  0.9449,  1.4373],\n",
       "         [-0.2392, -0.4993,  0.4248,  ...,  0.9640, -0.8248,  0.2008],\n",
       "         ...,\n",
       "         [-0.4767,  0.4453,  0.0862,  ...,  1.1203,  0.6439, -1.1207],\n",
       "         [ 1.3758,  0.8262, -2.1396,  ...,  0.4411, -1.7570, -0.8262],\n",
       "         [ 0.0650, -1.4633,  1.5181,  ...,  0.9173, -0.3190, -1.6042]],\n",
       "\n",
       "        [[-0.3612, -0.2719, -0.0206,  ..., -0.5909, -0.4786,  0.7000],\n",
       "         [-1.0337, -1.4603,  0.3079,  ...,  1.0977, -0.3514,  1.6286],\n",
       "         [ 0.5557,  1.2073,  0.3670,  ..., -0.2703,  0.4233,  0.7436],\n",
       "         ...,\n",
       "         [-0.7125,  1.0942, -0.1815,  ..., -0.9834, -1.0187,  0.0296],\n",
       "         [-1.1186, -0.1222,  1.1004,  ..., -0.9917,  0.3045,  0.5217],\n",
       "         [-0.2510,  0.1470,  0.1500,  ..., -0.0239,  0.6384, -0.9922]],\n",
       "\n",
       "        [[-1.5692, -1.1144,  1.1777,  ...,  1.5191, -0.2533, -0.3282],\n",
       "         [ 0.9489,  1.0563, -2.5253,  ..., -1.6614,  0.4280, -0.5094],\n",
       "         [ 0.0380,  1.6248,  0.8480,  ...,  0.8314,  1.3663,  0.0483],\n",
       "         ...,\n",
       "         [ 1.3003,  0.0714,  0.1573,  ..., -0.9886,  0.9279,  1.7220],\n",
       "         [-0.5525, -0.8127, -0.2576,  ..., -0.4719,  0.2370, -1.0909],\n",
       "         [ 0.1473,  0.1345,  1.7817,  ...,  0.7865, -0.4884, -0.6814]],\n",
       "\n",
       "        ...,\n",
       "\n",
       "        [[-1.0331, -1.7715,  1.2506,  ...,  1.0797,  0.8697, -0.0815],\n",
       "         [-0.4669,  0.9581,  1.0601,  ...,  1.0353, -0.6238,  0.8933],\n",
       "         [ 0.1239, -0.2032,  0.9248,  ..., -0.3797,  0.7828, -0.4234],\n",
       "         ...,\n",
       "         [ 0.1074, -0.2141,  0.5072,  ..., -1.4008, -1.4148, -0.3507],\n",
       "         [ 1.4174, -1.2804,  0.3877,  ...,  0.8913, -0.9274, -0.0794],\n",
       "         [ 0.2003,  1.6730,  0.4932,  ..., -1.6180,  0.0669, -0.5304]],\n",
       "\n",
       "        [[ 0.6691, -0.8785, -1.0370,  ...,  0.6577,  0.4438,  1.4909],\n",
       "         [ 0.6722, -0.3448, -0.5163,  ..., -0.3108,  0.4155,  0.8101],\n",
       "         [-0.6665, -1.9715,  0.9753,  ...,  0.6390,  1.5226,  0.3050],\n",
       "         ...,\n",
       "         [-0.6292,  0.1048, -0.2751,  ..., -2.5834, -2.0808,  0.2314],\n",
       "         [ 0.2528, -0.6512,  1.7869,  ..., -0.6756,  0.1536, -0.8208],\n",
       "         [-1.4508,  1.1317,  0.6884,  ...,  1.9904,  0.1922,  0.7580]],\n",
       "\n",
       "        [[ 0.1866,  0.1992,  0.3504,  ..., -0.1341,  0.7599, -0.9590],\n",
       "         [ 0.9925,  1.7709, -0.9581,  ..., -1.0891,  0.0481,  0.7912],\n",
       "         [ 0.9342,  0.4100, -0.8185,  ..., -0.2497, -0.6244,  0.9932],\n",
       "         ...,\n",
       "         [ 1.8926, -0.4738,  0.6474,  ..., -0.0652, -0.7709, -0.0081],\n",
       "         [ 1.4410,  0.1274,  2.0467,  ..., -1.6875,  0.3746, -0.5958],\n",
       "         [-0.9061, -0.6360,  0.5976,  ..., -1.5583, -1.8737, -1.0589]]])"
      ]
     },
     "execution_count": 5,
     "metadata": {},
     "output_type": "execute_result"
    }
   ],
   "source": [
    "attn_weight"
   ]
  }
 ],
 "metadata": {
  "kernelspec": {
   "display_name": "AI_310",
   "language": "python",
   "name": "python3"
  },
  "language_info": {
   "codemirror_mode": {
    "name": "ipython",
    "version": 3
   },
   "file_extension": ".py",
   "mimetype": "text/x-python",
   "name": "python",
   "nbconvert_exporter": "python",
   "pygments_lexer": "ipython3",
   "version": "3.10.10"
  },
  "orig_nbformat": 4
 },
 "nbformat": 4,
 "nbformat_minor": 2
}
