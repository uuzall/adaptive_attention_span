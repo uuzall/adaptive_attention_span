{
 "cells": [
  {
   "cell_type": "code",
   "execution_count": 10,
   "metadata": {},
   "outputs": [
    {
     "name": "stdout",
     "output_type": "stream",
     "text": [
      "NVIDIA GeForce RTX 3090\n"
     ]
    }
   ],
   "source": [
    "import torch\n",
    "import torch.nn as nn \n",
    "import torch.optim as optim \n",
    "import torch.nn.functional as F \n",
    "from torch.utils.data import DataLoader \n",
    "import numpy as np \n",
    "import matplotlib.pyplot as plt \n",
    "import data\n",
    "import gpt \n",
    "from tqdm import tqdm, trange\n",
    "import json \n",
    "import tiktoken \n",
    "\n",
    "device = 'cuda' if torch.cuda.is_available() else 'cpu' \n",
    "if device == 'cuda': \n",
    "  print(torch.cuda.get_device_name()) \n",
    "else: \n",
    "  print(device) \n",
    "\n",
    "lr = 3e-4 \n",
    "with open('config.json', 'r') as file: \n",
    "  config = json.load(file)\n",
    "\n",
    "lr = config['lr']\n",
    "bs = config['batch_size']"
   ]
  },
  {
   "cell_type": "code",
   "execution_count": 11,
   "metadata": {},
   "outputs": [
    {
     "name": "stdout",
     "output_type": "stream",
     "text": [
      "239.350709 M parameters.\n"
     ]
    },
    {
     "data": {
      "text/plain": [
       "<All keys matched successfully>"
      ]
     },
     "execution_count": 11,
     "metadata": {},
     "output_type": "execute_result"
    }
   ],
   "source": [
    "model = gpt.gpt_model(vocab_size=100277).to(device) \n",
    "print(sum(p.numel() for p in model.parameters())/1e6, 'M parameters.')\n",
    "\n",
    "model.load_state_dict(torch.load('models/checkpoint_32768.pth'))"
   ]
  },
  {
   "cell_type": "code",
   "execution_count": 12,
   "metadata": {},
   "outputs": [],
   "source": [
    "encoding = tiktoken.get_encoding('cl100k_base')"
   ]
  },
  {
   "cell_type": "code",
   "execution_count": 21,
   "metadata": {},
   "outputs": [],
   "source": [
    "sen = 'Ross Geller: What did you do?\\nChandler Bing: '\n",
    "sen = encoding.encode(sen) "
   ]
  },
  {
   "cell_type": "code",
   "execution_count": null,
   "metadata": {},
   "outputs": [],
   "source": []
  },
  {
   "cell_type": "code",
   "execution_count": 22,
   "metadata": {},
   "outputs": [
    {
     "name": "stdout",
     "output_type": "stream",
     "text": [
      "Ross Geller: What did you do?\n",
      "Chandler Bing: 50 seconds of that play tonight. What was in the rode of my stuff?\n",
      "#ALL#: Oh, I don't know what Big night.\n",
      "The Interviewer: So what's with a two?\n",
      "Phoebe Buffay: do you have a\n"
     ]
    }
   ],
   "source": [
    "print(encoding.decode(model.generate(torch.tensor(sen, device=device).unsqueeze(0), 50)[0].tolist())) "
   ]
  }
 ],
 "metadata": {
  "kernelspec": {
   "display_name": "AI_310",
   "language": "python",
   "name": "python3"
  },
  "language_info": {
   "codemirror_mode": {
    "name": "ipython",
    "version": 3
   },
   "file_extension": ".py",
   "mimetype": "text/x-python",
   "name": "python",
   "nbconvert_exporter": "python",
   "pygments_lexer": "ipython3",
   "version": "3.10.10"
  },
  "orig_nbformat": 4
 },
 "nbformat": 4,
 "nbformat_minor": 2
}
